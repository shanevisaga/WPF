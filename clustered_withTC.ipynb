{
 "cells": [
  {
   "cell_type": "code",
   "execution_count": 1,
   "id": "71e7ce32",
   "metadata": {},
   "outputs": [],
   "source": [
    "import numpy as np\n",
    "import pandas as pd\n",
    "import xarray as xr\n",
    "\n",
    "import matplotlib as mp\n",
    "import matplotlib.pyplot as plt\n",
    "import matplotlib.colors as colors\n",
    "\n",
    "\n",
    "from datetime import datetime,timezone "
   ]
  },
  {
   "cell_type": "code",
   "execution_count": 2,
   "id": "cd21aecd",
   "metadata": {},
   "outputs": [],
   "source": [
    "import cartopy.crs as ccrs\n",
    "import cartopy.feature as cf\n",
    "from cartopy.mpl.ticker import LongitudeFormatter, LatitudeFormatter"
   ]
  },
  {
   "cell_type": "code",
   "execution_count": 3,
   "id": "1e079edf",
   "metadata": {},
   "outputs": [],
   "source": [
    "### Function to plot basemap and lon lat labels ###\n",
    "def plot_background(ax):\n",
    "    ax.add_feature(cf.LAKES.with_scale('10m'),facecolor='none', edgecolor='black',linewidth=0.8)\n",
    "    ax.add_feature(cf.COASTLINE.with_scale('10m'),facecolor='none', edgecolor='black', linewidth=1) \n",
    "    return ax\n",
    "\n",
    "def plot_ticks(ax):\n",
    "    ax.set_yticks(np.arange(5, 22, 5), crs=ccrs.PlateCarree())\n",
    "    ax.set_xticks(np.arange(115, 127, 5), crs=ccrs.PlateCarree())\n",
    "    ax.xaxis.set_major_formatter(LongitudeFormatter())\n",
    "    ax.yaxis.set_major_formatter(LatitudeFormatter())\n",
    "    return ax"
   ]
  },
  {
   "cell_type": "code",
   "execution_count": null,
   "id": "02263d53",
   "metadata": {},
   "outputs": [],
   "source": []
  },
  {
   "cell_type": "code",
   "execution_count": 4,
   "id": "8a7437f2",
   "metadata": {},
   "outputs": [
    {
     "data": {
      "text/plain": [
       "\"\\n    color_dict1['orange1'],\\n    color_dict1['pink1'],\\n    color_dict1['cornsilk'],\\n    color_dict1['gray']\""
      ]
     },
     "execution_count": 4,
     "metadata": {},
     "output_type": "execute_result"
    }
   ],
   "source": [
    "from matplotlib.colors import LinearSegmentedColormap\n",
    "\n",
    "\n",
    "color_dict1 = {'skyblue': '#3498DB',\n",
    "               'green1': '#7CFC00',\n",
    "               'red1' : '#E74C3C',\n",
    "               'yellow1' : '#F6F91A',\n",
    "               'violet1' : '#8E44AD',\n",
    "               'orange1' : '#FFBF00',\n",
    "               'pink1': '#FFC0CB',\n",
    "               'cornsilk': '#FFF8DC',\n",
    "               'gray' : '#808080'\n",
    "               }\n",
    "\n",
    "mycolorbar1 = LinearSegmentedColormap.from_list('mycolorbar1', [\n",
    "    color_dict1['skyblue'],\n",
    "    color_dict1['green1'],\n",
    "    color_dict1['red1'],\n",
    "    color_dict1['yellow1'],\n",
    "    color_dict1['violet1']])\n",
    "\n",
    "'''\n",
    "    color_dict1['orange1'],\n",
    "    color_dict1['pink1'],\n",
    "    color_dict1['cornsilk'],\n",
    "    color_dict1['gray']'''"
   ]
  },
  {
   "cell_type": "code",
   "execution_count": 5,
   "id": "5081a904",
   "metadata": {},
   "outputs": [],
   "source": [
    "df = pd.read_csv('pa_clusters_all_withTC.csv')\n",
    "df.loc[ df[\"cluster_2\"] == 1, \"cluster2\"] = 2\n",
    "df.loc[ df[\"cluster_2\"] == 2, \"cluster2\"] = 1\n",
    "df['cluster2'] = df['cluster2'].astype(int)\n",
    "df['cluster_2'] = df['cluster2']\n"
   ]
  },
  {
   "cell_type": "code",
   "execution_count": null,
   "id": "dd895517",
   "metadata": {},
   "outputs": [],
   "source": []
  },
  {
   "cell_type": "code",
   "execution_count": 6,
   "id": "13994be8",
   "metadata": {},
   "outputs": [],
   "source": [
    "df = pd.melt(df, id_vars=['lon','lat','cluster_2', 'cluster_3',\n",
    "       'cluster_4', 'cluster_5', 'cluster_6', 'cluster_7', 'cluster_8',\n",
    "       'cluster_9'], value_vars=['2013-05-01 00:00:00',\n",
    "       '2013-05-01 01:00:00', '2013-05-01 02:00:00', '2013-05-01 03:00:00',\n",
    "       '2013-05-01 04:00:00', '2013-05-01 05:00:00', '2013-05-01 06:00:00',\n",
    "       '2013-05-01 07:00:00', '2013-05-01 08:00:00', '2013-05-01 09:00:00',\n",
    "       '2013-05-01 10:00:00', '2013-05-01 11:00:00', '2013-05-01 12:00:00',\n",
    "       '2013-05-01 13:00:00', '2013-05-01 14:00:00', '2013-05-01 15:00:00',\n",
    "       '2013-05-01 16:00:00', '2013-05-01 17:00:00', '2013-05-01 18:00:00',\n",
    "       '2013-05-01 19:00:00', '2013-05-01 20:00:00', '2013-05-01 21:00:00',\n",
    "       '2013-05-01 22:00:00', '2013-05-01 23:00:00'])\n",
    "df['time'] = pd.to_datetime(df.variable)\n",
    "df['hr'] = df['time'].dt.hour\n"
   ]
  },
  {
   "cell_type": "code",
   "execution_count": 7,
   "id": "970804d9",
   "metadata": {},
   "outputs": [],
   "source": [
    "sum_2 = df.groupby(['cluster_2','hr']).agg({'value': ['mean', 'max', 'min','std', 'count']}).droplevel(axis=1, level=0).reset_index()\n",
    "sum_3 = df.groupby(['cluster_3','hr']).agg({'value': ['mean', 'max', 'min','std', 'count']}).droplevel(axis=1, level=0).reset_index()\n",
    "sum_4 = df.groupby(['cluster_4','hr']).agg({'value': ['mean', 'max', 'min','std', 'count']}).droplevel(axis=1, level=0).reset_index()\n",
    "sum_5 = df.groupby(['cluster_5','hr']).agg({'value': ['mean', 'max', 'min','std', 'count']}).droplevel(axis=1, level=0).reset_index()"
   ]
  },
  {
   "cell_type": "code",
   "execution_count": 8,
   "id": "9a151008",
   "metadata": {},
   "outputs": [
    {
     "data": {
      "text/plain": [
       "cluster_2      2.000000\n",
       "hr            23.000000\n",
       "mean           1.946142\n",
       "max            3.465571\n",
       "min            0.783773\n",
       "std            0.499988\n",
       "count        366.000000\n",
       "dtype: float64"
      ]
     },
     "execution_count": 8,
     "metadata": {},
     "output_type": "execute_result"
    }
   ],
   "source": [
    "sum_2.to_csv('pa_clusters_peaks_TC.csv')\n",
    "sum_2.max()"
   ]
  },
  {
   "cell_type": "code",
   "execution_count": 9,
   "id": "46465239",
   "metadata": {},
   "outputs": [
    {
     "data": {
      "text/plain": [
       "lon          366\n",
       "lat          366\n",
       "cluster_2    366\n",
       "cluster_3    366\n",
       "cluster_4    366\n",
       "cluster_5    366\n",
       "cluster_6    366\n",
       "cluster_7    366\n",
       "cluster_8    366\n",
       "cluster_9    366\n",
       "variable     366\n",
       "value        366\n",
       "time         366\n",
       "hr           366\n",
       "dtype: int64"
      ]
     },
     "execution_count": 9,
     "metadata": {},
     "output_type": "execute_result"
    }
   ],
   "source": [
    "df[(df['hr'] == 0) & (df['cluster_2'] == 1)].count() #366"
   ]
  },
  {
   "cell_type": "code",
   "execution_count": 10,
   "id": "fadc782b",
   "metadata": {},
   "outputs": [
    {
     "data": {
      "text/plain": [
       "lon          264\n",
       "lat          264\n",
       "cluster_2    264\n",
       "cluster_3    264\n",
       "cluster_4    264\n",
       "cluster_5    264\n",
       "cluster_6    264\n",
       "cluster_7    264\n",
       "cluster_8    264\n",
       "cluster_9    264\n",
       "variable     264\n",
       "value        264\n",
       "time         264\n",
       "hr           264\n",
       "dtype: int64"
      ]
     },
     "execution_count": 10,
     "metadata": {},
     "output_type": "execute_result"
    }
   ],
   "source": [
    "df[(df['hr'] == 0) & (df['cluster_2'] == 2)].count() #264"
   ]
  },
  {
   "cell_type": "code",
   "execution_count": null,
   "id": "92f01766",
   "metadata": {},
   "outputs": [],
   "source": []
  },
  {
   "cell_type": "code",
   "execution_count": 15,
   "id": "b710516c",
   "metadata": {},
   "outputs": [
    {
     "data": {
      "text/plain": [
       "41.904761904761905"
      ]
     },
     "execution_count": 15,
     "metadata": {},
     "output_type": "execute_result"
    }
   ],
   "source": [
    "100*264/(264+366)"
   ]
  },
  {
   "cell_type": "code",
   "execution_count": 16,
   "id": "7e1cf3b4",
   "metadata": {},
   "outputs": [
    {
     "data": {
      "text/plain": [
       "58.095238095238095"
      ]
     },
     "execution_count": 16,
     "metadata": {},
     "output_type": "execute_result"
    }
   ],
   "source": [
    "100*366/(264+366)"
   ]
  },
  {
   "cell_type": "code",
   "execution_count": 11,
   "id": "eb09f1fe",
   "metadata": {},
   "outputs": [
    {
     "name": "stdout",
     "output_type": "stream",
     "text": [
      "lon          264\n",
      "lat          264\n",
      "cluster_2    264\n",
      "cluster_3    264\n",
      "cluster_4    264\n",
      "cluster_5    264\n",
      "cluster_6    264\n",
      "cluster_7    264\n",
      "cluster_8    264\n",
      "cluster_9    264\n",
      "variable     264\n",
      "value        264\n",
      "time         264\n",
      "hr           264\n",
      "dtype: int64\n"
     ]
    },
    {
     "name": "stderr",
     "output_type": "stream",
     "text": [
      "/var/folders/m6/4qg_57053p93nhjn29vdbv940000gp/T/ipykernel_3043/860955417.py:95: MatplotlibDeprecationWarning: savefig() got unexpected keyword argument \"frameon\" which is no longer supported as of 3.3 and will become an error two minor releases later\n",
      "  plt.savefig(f\"{images_dir}/pa_cluster_2_withTC.png\", dpi=500, frameon=False, facecolor='white', bbox_inches=\"tight\")\n"
     ]
    },
    {
     "data": {
      "image/png": "[encoded data removed]",
      "text/plain": [
       "<Figure size 612x792 with 4 Axes>"
      ]
     },
     "metadata": {
      "needs_background": "light"
     },
     "output_type": "display_data"
    }
   ],
   "source": [
    "mycolorbar1 = LinearSegmentedColormap.from_list('mycolorbar1', [\n",
    "    color_dict1['skyblue'],color_dict1['green1'],color_dict1['red1'],color_dict1['skyblue']])\n",
    "                                               \n",
    "\n",
    "\n",
    "s = 1\n",
    "fig = plt.figure(figsize=(8.5,11))\n",
    "gs = fig.add_gridspec(10, 12)\n",
    "\n",
    "\n",
    "ax1 = fig.add_subplot(gs[0:2, 0:2], projection=ccrs.PlateCarree())\n",
    "ax2 = fig.add_subplot(gs[0:2, 3:5], projection=ccrs.PlateCarree())\n",
    "\n",
    "ax11 = fig.add_subplot(gs[2, 0:2])\n",
    "ax22 = fig.add_subplot(gs[2, 3:5])\n",
    "\n",
    "\n",
    "plot_background(ax1)\n",
    "plot_ticks(ax1)\n",
    "plot_background(ax2)\n",
    "plot_ticks(ax2)\n",
    "\n",
    "\n",
    "\n",
    "cmap = mycolorbar1\n",
    "bounds = np.arange(0.5,5,1)\n",
    "norm = colors.BoundaryNorm(bounds,cmap.N)  \n",
    "\n",
    "\n",
    "t = df[df['cluster_2']== 1]\n",
    "cs = ax1.scatter(t['lon'], t['lat'], c='#3498DB', s=s, marker=\"s\", transform=ccrs.PlateCarree())\n",
    "ax1.set_xlim(116,127)\n",
    "ax1.set_ylim(5,22)\n",
    "ax1.xaxis.tick_top()\n",
    "ax1.text(115, 22, 'a',  fontsize=8)\n",
    "\n",
    "t = df[df['cluster_2']== 2]\n",
    "print(t[(t['hr'] == 0)].count() )\n",
    "cs = ax2.scatter(t['lon'], t['lat'], c='#7CFC00', s=s, marker=\"s\", transform=ccrs.PlateCarree())\n",
    "ax2.set_xlim(116,127)\n",
    "ax2.set_ylim(5,22)\n",
    "ax2.xaxis.tick_top()\n",
    "ax2.text(115, 22, 'b',  fontsize=8)\n",
    "\n",
    "\n",
    "\n",
    "\n",
    "################################################################\n",
    "s = sum_2[sum_2['cluster_2'] == 1]\n",
    "t = s['hr']\n",
    "mu1 = s['mean']\n",
    "max_ = s['mean']+ s['std']\n",
    "min_ = s['mean']-s['std']\n",
    "max_ = s['max']\n",
    "min_ = s['min']\n",
    "ax11.plot(t, mu1, lw=3, label='opaque', color='#3498DB')\n",
    "ax11.fill_between(t, min_, max_, facecolor='#3498DB', alpha=0.3)\n",
    "ax11.yaxis.tick_right() \n",
    "ax11.text(1, 2., 'K=1 \\n58%',  fontsize=8)\n",
    "#ax11.text(-1.7, 1.8, 'c',  fontsize=8)\n",
    "################################################################\n",
    "s = sum_2[sum_2['cluster_2'] == 2]\n",
    "t = s['hr']\n",
    "mu1 = s['mean']\n",
    "max_ = s['mean']+ s['std']\n",
    "min_ = s['mean']-s['std']\n",
    "max_ = s['max']\n",
    "min_ = s['min']\n",
    "ax22.plot(t, mu1, lw=3, label='opaque', color='#7CFC00')\n",
    "ax22.fill_between(t, min_, max_, facecolor='#7CFC00', alpha=0.3)\n",
    "ax22.yaxis.tick_right() \n",
    "ax22.text(1, 2., 'K=2 \\n42%', fontsize=8)\n",
    "#ax22.text(-1.7, 2, 'b',  fontsize=8)\n",
    "\n",
    "################################################################\n",
    "ax11.set_xlim(0,23)\n",
    "ax11.set_ylim(0,3.5)\n",
    "ax22.set_xlim(0,23)\n",
    "ax22.set_ylim(0,3.5)\n",
    "\n",
    "ax11.set_xticks([5,10,15,20])\n",
    "ax22.set_xticks([5,10,15,20])\n",
    "\n",
    "ax11.text(-15, 6, 'PA (mm h-1)', rotation=90, fontsize=12)\n",
    "ax22.text(0, -2.7, 'Hour (LST)', fontsize=12)\n",
    "################################################################\n",
    "#ax1.text(128, 15, 'PA (mm h-1)', rotation=90, fontsize=12)\n",
    "#ax1.text(128, 6, 'PA (mm h-1)', rotation=90, fontsize=12)\n",
    "\n",
    "\n",
    "#ax11.text(8, -1.8, 'Hour (LST)', fontsize=12)\n",
    "#plt.text(-3, 0.67, 'Cluster Number', rotation=90, fontsize=15)\n",
    "\n",
    "images_dir = 'Images'\n",
    "plt.savefig(f\"{images_dir}/pa_cluster_2_withTC.png\", dpi=500, frameon=False, facecolor='white', bbox_inches=\"tight\")\n"
   ]
  }
 ],
 "metadata": {
  "kernelspec": {
   "display_name": "Python 3 (ipykernel)",
   "language": "python",
   "name": "python3"
  },
  "language_info": {
   "codemirror_mode": {
    "name": "ipython",
    "version": 3
   },
   "file_extension": ".py",
   "mimetype": "text/x-python",
   "name": "python",
   "nbconvert_exporter": "python",
   "pygments_lexer": "ipython3",
   "version": "3.9.7"
  }
 },
 "nbformat": 4,
 "nbformat_minor": 5
}
